{
  "cells": [
    {
      "cell_type": "markdown",
      "metadata": {
        "id": "fxCOnJWPXl0O"
      },
      "source": [
        "For this project I use `BechleLUR_2006_allmodelbuildingdata.csv`. This data is an accumulation of GIS land-use characteristics from land-monitoring from the EPA, and in situ NO2 measurements from satellite sensors. The dataset has a large number of feature variables. Hence an important goal is to estimate the subset of features are the most pertinent to the variable predicted\n",
        "\n",
        "\n",
        "The goal of this project is to use feature selection methods to find the optimal combination of feature variables that best predict outdoor air pollution using multiple regression models\n",
        "\n",
        "\n",
        "\n"
      ]
    },
    {
      "cell_type": "code",
      "execution_count": null,
      "metadata": {
        "ExecuteTime": {
          "end_time": "2018-08-13T18:50:14.728090Z",
          "start_time": "2018-08-13T18:50:08.632835Z"
        },
        "id": "qbD_NReEXl0N"
      },
      "outputs": [],
      "source": [
        "import numpy as np\n",
        "import pandas as pd\n",
        "\n",
        "import statsmodels.api as sm\n",
        "from sklearn.model_selection import KFold\n",
        "from sklearn.metrics import mean_squared_error\n",
        "\n",
        "import matplotlib.pyplot as plt\n",
        "import seaborn as sns\n",
        "\n",
        "import warnings\n",
        "warnings.filterwarnings('ignore')"
      ]
    },
    {
      "cell_type": "code",
      "execution_count": null,
      "metadata": {
        "ExecuteTime": {
          "end_time": "2018-08-13T18:50:20.144131Z",
          "start_time": "2018-08-13T18:50:20.097483Z"
        },
        "id": "SkMsE9l4Xl0P",
        "outputId": "145dddf5-66a9-4feb-b0c9-8e80ef8fd354"
      },
      "outputs": [
        {
          "data": {
            "text/plain": [
              "Index(['Monitor_ID', 'State', 'Latitude', 'Longitude', 'Observed_NO2_ppb',\n",
              "       'Predicted_NO2_ppb', 'WRF+DOMINO', 'Distance_to_coast_km',\n",
              "       'Elevation_truncated_km', 'Impervious_100',\n",
              "       ...\n",
              "       'total_8000', 'total_10000', 'total_10500', 'total_11000',\n",
              "       'total_11500', 'total_12000', 'total_12500', 'total_13000',\n",
              "       'total_13500', 'total_14000'],\n",
              "      dtype='object', length=135)"
            ]
          },
          "execution_count": 3,
          "metadata": {},
          "output_type": "execute_result"
        }
      ],
      "source": [
        "land_use = pd.read_csv('data/BechleLUR_2006_allmodelbuildingdata.csv')\n",
        "land_use.columns"
      ]
    },
    {
      "cell_type": "markdown",
      "metadata": {
        "id": "kNTsToZCXl0P"
      },
      "source": [
        "From the results above, there are 133 variables in this dataset. Some of these columns are shown below"
      ]
    },
    {
      "cell_type": "code",
      "execution_count": null,
      "metadata": {
        "ExecuteTime": {
          "end_time": "2018-08-13T18:50:24.791770Z",
          "start_time": "2018-08-13T18:50:24.754139Z"
        },
        "scrolled": true,
        "id": "kCBnzBB6Xl0Q",
        "outputId": "2ad4222d-fbdd-42cd-e837-a91cc0cdbec3"
      },
      "outputs": [
        {
          "data": {
            "text/html": [
              "<div>\n",
              "<style scoped>\n",
              "    .dataframe tbody tr th:only-of-type {\n",
              "        vertical-align: middle;\n",
              "    }\n",
              "\n",
              "    .dataframe tbody tr th {\n",
              "        vertical-align: top;\n",
              "    }\n",
              "\n",
              "    .dataframe thead th {\n",
              "        text-align: right;\n",
              "    }\n",
              "</style>\n",
              "<table border=\"1\" class=\"dataframe\">\n",
              "  <thead>\n",
              "    <tr style=\"text-align: right;\">\n",
              "      <th></th>\n",
              "      <th>Monitor_ID</th>\n",
              "      <th>State</th>\n",
              "      <th>Latitude</th>\n",
              "      <th>Longitude</th>\n",
              "      <th>Observed_NO2_ppb</th>\n",
              "      <th>Predicted_NO2_ppb</th>\n",
              "      <th>WRF+DOMINO</th>\n",
              "      <th>Distance_to_coast_km</th>\n",
              "      <th>Elevation_truncated_km</th>\n",
              "      <th>Impervious_100</th>\n",
              "      <th>...</th>\n",
              "      <th>total_8000</th>\n",
              "      <th>total_10000</th>\n",
              "      <th>total_10500</th>\n",
              "      <th>total_11000</th>\n",
              "      <th>total_11500</th>\n",
              "      <th>total_12000</th>\n",
              "      <th>total_12500</th>\n",
              "      <th>total_13000</th>\n",
              "      <th>total_13500</th>\n",
              "      <th>total_14000</th>\n",
              "    </tr>\n",
              "  </thead>\n",
              "  <tbody>\n",
              "    <tr>\n",
              "      <th>0</th>\n",
              "      <td>04-013-0019-42602-1</td>\n",
              "      <td>AZ</td>\n",
              "      <td>33.483850</td>\n",
              "      <td>-112.142570</td>\n",
              "      <td>23.884706</td>\n",
              "      <td>20.986643</td>\n",
              "      <td>11.615223</td>\n",
              "      <td>313.0</td>\n",
              "      <td>0.304</td>\n",
              "      <td>59.4431</td>\n",
              "      <td>...</td>\n",
              "      <td>1788.38015</td>\n",
              "      <td>2637.91917</td>\n",
              "      <td>2862.73591</td>\n",
              "      <td>3096.99468</td>\n",
              "      <td>3339.22952</td>\n",
              "      <td>3609.20650</td>\n",
              "      <td>3896.25748</td>\n",
              "      <td>4150.54739</td>\n",
              "      <td>4396.96011</td>\n",
              "      <td>4651.18890</td>\n",
              "    </tr>\n",
              "    <tr>\n",
              "      <th>1</th>\n",
              "      <td>04-013-3002-42602-6</td>\n",
              "      <td>AZ</td>\n",
              "      <td>33.457930</td>\n",
              "      <td>-112.046010</td>\n",
              "      <td>25.089886</td>\n",
              "      <td>20.990096</td>\n",
              "      <td>11.472677</td>\n",
              "      <td>323.8</td>\n",
              "      <td>0.304</td>\n",
              "      <td>72.0000</td>\n",
              "      <td>...</td>\n",
              "      <td>1731.04787</td>\n",
              "      <td>2562.32948</td>\n",
              "      <td>2791.32295</td>\n",
              "      <td>3015.79024</td>\n",
              "      <td>3248.95785</td>\n",
              "      <td>3489.76919</td>\n",
              "      <td>3723.01595</td>\n",
              "      <td>3963.41655</td>\n",
              "      <td>4196.37496</td>\n",
              "      <td>4459.57421</td>\n",
              "    </tr>\n",
              "    <tr>\n",
              "      <th>2</th>\n",
              "      <td>04-013-3003-42602-1</td>\n",
              "      <td>AZ</td>\n",
              "      <td>33.479680</td>\n",
              "      <td>-111.917210</td>\n",
              "      <td>19.281969</td>\n",
              "      <td>18.088153</td>\n",
              "      <td>8.990372</td>\n",
              "      <td>308.4</td>\n",
              "      <td>0.304</td>\n",
              "      <td>53.0000</td>\n",
              "      <td>...</td>\n",
              "      <td>1254.14847</td>\n",
              "      <td>1965.43346</td>\n",
              "      <td>2157.42878</td>\n",
              "      <td>2362.96458</td>\n",
              "      <td>2584.38952</td>\n",
              "      <td>2820.52494</td>\n",
              "      <td>3052.44507</td>\n",
              "      <td>3315.05126</td>\n",
              "      <td>3607.37536</td>\n",
              "      <td>3921.12841</td>\n",
              "    </tr>\n",
              "    <tr>\n",
              "      <th>3</th>\n",
              "      <td>04-013-3010-42602-1</td>\n",
              "      <td>AZ</td>\n",
              "      <td>33.460930</td>\n",
              "      <td>-112.117480</td>\n",
              "      <td>30.645138</td>\n",
              "      <td>20.358009</td>\n",
              "      <td>11.919268</td>\n",
              "      <td>309.0</td>\n",
              "      <td>0.304</td>\n",
              "      <td>61.3099</td>\n",
              "      <td>...</td>\n",
              "      <td>1599.66889</td>\n",
              "      <td>2449.51041</td>\n",
              "      <td>2660.60636</td>\n",
              "      <td>2879.53599</td>\n",
              "      <td>3109.74604</td>\n",
              "      <td>3339.37790</td>\n",
              "      <td>3597.15279</td>\n",
              "      <td>3848.61451</td>\n",
              "      <td>4125.08884</td>\n",
              "      <td>4427.95530</td>\n",
              "    </tr>\n",
              "    <tr>\n",
              "      <th>4</th>\n",
              "      <td>04-013-4011-42602-1</td>\n",
              "      <td>AZ</td>\n",
              "      <td>33.370050</td>\n",
              "      <td>-112.620700</td>\n",
              "      <td>11.070412</td>\n",
              "      <td>8.549622</td>\n",
              "      <td>2.141366</td>\n",
              "      <td>269.5</td>\n",
              "      <td>0.293</td>\n",
              "      <td>12.0000</td>\n",
              "      <td>...</td>\n",
              "      <td>149.29461</td>\n",
              "      <td>222.34687</td>\n",
              "      <td>244.41106</td>\n",
              "      <td>269.54740</td>\n",
              "      <td>293.31410</td>\n",
              "      <td>320.37722</td>\n",
              "      <td>349.76462</td>\n",
              "      <td>386.03419</td>\n",
              "      <td>412.91888</td>\n",
              "      <td>441.52860</td>\n",
              "    </tr>\n",
              "    <tr>\n",
              "      <th>5</th>\n",
              "      <td>04-013-9997-42602-1</td>\n",
              "      <td>AZ</td>\n",
              "      <td>33.503731</td>\n",
              "      <td>-112.095809</td>\n",
              "      <td>22.393566</td>\n",
              "      <td>20.942856</td>\n",
              "      <td>11.731892</td>\n",
              "      <td>314.7</td>\n",
              "      <td>0.304</td>\n",
              "      <td>66.0000</td>\n",
              "      <td>...</td>\n",
              "      <td>2010.17084</td>\n",
              "      <td>3014.84744</td>\n",
              "      <td>3262.36877</td>\n",
              "      <td>3500.22514</td>\n",
              "      <td>3732.97025</td>\n",
              "      <td>3957.86612</td>\n",
              "      <td>4194.27832</td>\n",
              "      <td>4440.12141</td>\n",
              "      <td>4707.73501</td>\n",
              "      <td>4996.20249</td>\n",
              "    </tr>\n",
              "    <tr>\n",
              "      <th>6</th>\n",
              "      <td>04-019-1011-42602-1</td>\n",
              "      <td>AZ</td>\n",
              "      <td>32.204411</td>\n",
              "      <td>-110.878667</td>\n",
              "      <td>15.749855</td>\n",
              "      <td>13.394496</td>\n",
              "      <td>2.031462</td>\n",
              "      <td>275.1</td>\n",
              "      <td>0.304</td>\n",
              "      <td>57.0000</td>\n",
              "      <td>...</td>\n",
              "      <td>1569.63377</td>\n",
              "      <td>2414.22062</td>\n",
              "      <td>2634.50616</td>\n",
              "      <td>2842.95309</td>\n",
              "      <td>3072.81520</td>\n",
              "      <td>3278.31648</td>\n",
              "      <td>3479.05149</td>\n",
              "      <td>3688.38977</td>\n",
              "      <td>3881.19939</td>\n",
              "      <td>4077.03977</td>\n",
              "    </tr>\n",
              "    <tr>\n",
              "      <th>7</th>\n",
              "      <td>04-019-1028-42602-1</td>\n",
              "      <td>AZ</td>\n",
              "      <td>32.295150</td>\n",
              "      <td>-110.982300</td>\n",
              "      <td>14.773313</td>\n",
              "      <td>12.245109</td>\n",
              "      <td>2.130547</td>\n",
              "      <td>271.6</td>\n",
              "      <td>0.304</td>\n",
              "      <td>48.0000</td>\n",
              "      <td>...</td>\n",
              "      <td>1360.56333</td>\n",
              "      <td>2061.10625</td>\n",
              "      <td>2245.68336</td>\n",
              "      <td>2423.54886</td>\n",
              "      <td>2596.69875</td>\n",
              "      <td>2764.40073</td>\n",
              "      <td>2947.00698</td>\n",
              "      <td>3143.10559</td>\n",
              "      <td>3324.94354</td>\n",
              "      <td>3504.52518</td>\n",
              "    </tr>\n",
              "    <tr>\n",
              "      <th>8</th>\n",
              "      <td>04-027-0006-42602-1</td>\n",
              "      <td>AZ</td>\n",
              "      <td>32.677855</td>\n",
              "      <td>-114.475861</td>\n",
              "      <td>10.412472</td>\n",
              "      <td>5.909958</td>\n",
              "      <td>0.026118</td>\n",
              "      <td>112.4</td>\n",
              "      <td>0.063</td>\n",
              "      <td>16.0000</td>\n",
              "      <td>...</td>\n",
              "      <td>557.50084</td>\n",
              "      <td>792.65848</td>\n",
              "      <td>848.94399</td>\n",
              "      <td>895.22375</td>\n",
              "      <td>936.58728</td>\n",
              "      <td>978.27742</td>\n",
              "      <td>1026.14093</td>\n",
              "      <td>1075.12710</td>\n",
              "      <td>1126.49198</td>\n",
              "      <td>1180.13544</td>\n",
              "    </tr>\n",
              "    <tr>\n",
              "      <th>9</th>\n",
              "      <td>05-035-0005-42602-1</td>\n",
              "      <td>AR</td>\n",
              "      <td>35.197288</td>\n",
              "      <td>-90.193141</td>\n",
              "      <td>11.915892</td>\n",
              "      <td>8.151799</td>\n",
              "      <td>3.711561</td>\n",
              "      <td>629.7</td>\n",
              "      <td>0.065</td>\n",
              "      <td>24.0641</td>\n",
              "      <td>...</td>\n",
              "      <td>536.08642</td>\n",
              "      <td>736.96695</td>\n",
              "      <td>765.98493</td>\n",
              "      <td>791.17568</td>\n",
              "      <td>819.67907</td>\n",
              "      <td>839.52606</td>\n",
              "      <td>862.01374</td>\n",
              "      <td>889.19455</td>\n",
              "      <td>921.36303</td>\n",
              "      <td>949.34936</td>\n",
              "    </tr>\n",
              "  </tbody>\n",
              "</table>\n",
              "<p>10 rows × 135 columns</p>\n",
              "</div>"
            ],
            "text/plain": [
              "            Monitor_ID State   Latitude   Longitude  Observed_NO2_ppb  \\\n",
              "0  04-013-0019-42602-1    AZ  33.483850 -112.142570         23.884706   \n",
              "1  04-013-3002-42602-6    AZ  33.457930 -112.046010         25.089886   \n",
              "2  04-013-3003-42602-1    AZ  33.479680 -111.917210         19.281969   \n",
              "3  04-013-3010-42602-1    AZ  33.460930 -112.117480         30.645138   \n",
              "4  04-013-4011-42602-1    AZ  33.370050 -112.620700         11.070412   \n",
              "5  04-013-9997-42602-1    AZ  33.503731 -112.095809         22.393566   \n",
              "6  04-019-1011-42602-1    AZ  32.204411 -110.878667         15.749855   \n",
              "7  04-019-1028-42602-1    AZ  32.295150 -110.982300         14.773313   \n",
              "8  04-027-0006-42602-1    AZ  32.677855 -114.475861         10.412472   \n",
              "9  05-035-0005-42602-1    AR  35.197288  -90.193141         11.915892   \n",
              "\n",
              "   Predicted_NO2_ppb  WRF+DOMINO  Distance_to_coast_km  \\\n",
              "0          20.986643   11.615223                 313.0   \n",
              "1          20.990096   11.472677                 323.8   \n",
              "2          18.088153    8.990372                 308.4   \n",
              "3          20.358009   11.919268                 309.0   \n",
              "4           8.549622    2.141366                 269.5   \n",
              "5          20.942856   11.731892                 314.7   \n",
              "6          13.394496    2.031462                 275.1   \n",
              "7          12.245109    2.130547                 271.6   \n",
              "8           5.909958    0.026118                 112.4   \n",
              "9           8.151799    3.711561                 629.7   \n",
              "\n",
              "   Elevation_truncated_km  Impervious_100  ...  total_8000  total_10000  \\\n",
              "0                   0.304         59.4431  ...  1788.38015   2637.91917   \n",
              "1                   0.304         72.0000  ...  1731.04787   2562.32948   \n",
              "2                   0.304         53.0000  ...  1254.14847   1965.43346   \n",
              "3                   0.304         61.3099  ...  1599.66889   2449.51041   \n",
              "4                   0.293         12.0000  ...   149.29461    222.34687   \n",
              "5                   0.304         66.0000  ...  2010.17084   3014.84744   \n",
              "6                   0.304         57.0000  ...  1569.63377   2414.22062   \n",
              "7                   0.304         48.0000  ...  1360.56333   2061.10625   \n",
              "8                   0.063         16.0000  ...   557.50084    792.65848   \n",
              "9                   0.065         24.0641  ...   536.08642    736.96695   \n",
              "\n",
              "   total_10500  total_11000  total_11500  total_12000  total_12500  \\\n",
              "0   2862.73591   3096.99468   3339.22952   3609.20650   3896.25748   \n",
              "1   2791.32295   3015.79024   3248.95785   3489.76919   3723.01595   \n",
              "2   2157.42878   2362.96458   2584.38952   2820.52494   3052.44507   \n",
              "3   2660.60636   2879.53599   3109.74604   3339.37790   3597.15279   \n",
              "4    244.41106    269.54740    293.31410    320.37722    349.76462   \n",
              "5   3262.36877   3500.22514   3732.97025   3957.86612   4194.27832   \n",
              "6   2634.50616   2842.95309   3072.81520   3278.31648   3479.05149   \n",
              "7   2245.68336   2423.54886   2596.69875   2764.40073   2947.00698   \n",
              "8    848.94399    895.22375    936.58728    978.27742   1026.14093   \n",
              "9    765.98493    791.17568    819.67907    839.52606    862.01374   \n",
              "\n",
              "   total_13000  total_13500  total_14000  \n",
              "0   4150.54739   4396.96011   4651.18890  \n",
              "1   3963.41655   4196.37496   4459.57421  \n",
              "2   3315.05126   3607.37536   3921.12841  \n",
              "3   3848.61451   4125.08884   4427.95530  \n",
              "4    386.03419    412.91888    441.52860  \n",
              "5   4440.12141   4707.73501   4996.20249  \n",
              "6   3688.38977   3881.19939   4077.03977  \n",
              "7   3143.10559   3324.94354   3504.52518  \n",
              "8   1075.12710   1126.49198   1180.13544  \n",
              "9    889.19455    921.36303    949.34936  \n",
              "\n",
              "[10 rows x 135 columns]"
            ]
          },
          "execution_count": 3,
          "metadata": {},
          "output_type": "execute_result"
        }
      ],
      "source": [
        "land_use.head(10)"
      ]
    },
    {
      "cell_type": "markdown",
      "metadata": {
        "id": "r5Fb6W6uXl0Q"
      },
      "source": [
        "The various data types in each column are shown below."
      ]
    },
    {
      "cell_type": "code",
      "execution_count": null,
      "metadata": {
        "ExecuteTime": {
          "end_time": "2018-08-13T18:50:28.255153Z",
          "start_time": "2018-08-13T18:50:28.247349Z"
        },
        "scrolled": true,
        "id": "oL-E_bvJXl0R",
        "outputId": "5786cd68-9afd-404d-ec49-50fcce525f64"
      },
      "outputs": [
        {
          "data": {
            "text/plain": [
              "Monitor_ID           object\n",
              "State                object\n",
              "Latitude            float64\n",
              "Longitude           float64\n",
              "Observed_NO2_ppb    float64\n",
              "                     ...   \n",
              "total_12000         float64\n",
              "total_12500         float64\n",
              "total_13000         float64\n",
              "total_13500         float64\n",
              "total_14000         float64\n",
              "Length: 135, dtype: object"
            ]
          },
          "execution_count": 6,
          "metadata": {},
          "output_type": "execute_result"
        }
      ],
      "source": [
        "land_use.dtypes"
      ]
    },
    {
      "cell_type": "markdown",
      "metadata": {
        "id": "5Ab0UK4cXl0R"
      },
      "source": [
        "Convert qualitative values to quantitative values"
      ]
    },
    {
      "cell_type": "code",
      "execution_count": null,
      "metadata": {
        "id": "SEj_GpiwXl0R",
        "outputId": "49b706c4-31d2-4652-9734-fc0b6ced4677"
      },
      "outputs": [
        {
          "data": {
            "text/html": [
              "<div>\n",
              "<style scoped>\n",
              "    .dataframe tbody tr th:only-of-type {\n",
              "        vertical-align: middle;\n",
              "    }\n",
              "\n",
              "    .dataframe tbody tr th {\n",
              "        vertical-align: top;\n",
              "    }\n",
              "\n",
              "    .dataframe thead th {\n",
              "        text-align: right;\n",
              "    }\n",
              "</style>\n",
              "<table border=\"1\" class=\"dataframe\">\n",
              "  <thead>\n",
              "    <tr style=\"text-align: right;\">\n",
              "      <th></th>\n",
              "      <th>Location_type</th>\n",
              "      <th>WRF+DOMINO</th>\n",
              "      <th>Impervious_%</th>\n",
              "      <th>Elevation_km</th>\n",
              "      <th>MajorRoads_km</th>\n",
              "      <th>MinorRoads_km</th>\n",
              "      <th>Distance_to_coast_km</th>\n",
              "    </tr>\n",
              "  </thead>\n",
              "  <tbody>\n",
              "    <tr>\n",
              "      <th>0</th>\n",
              "      <td>1</td>\n",
              "      <td>11.615223</td>\n",
              "      <td>58.9488</td>\n",
              "      <td>0.304</td>\n",
              "      <td>1.35858</td>\n",
              "      <td>0.61637</td>\n",
              "      <td>313.0</td>\n",
              "    </tr>\n",
              "    <tr>\n",
              "      <th>1</th>\n",
              "      <td>0</td>\n",
              "      <td>11.472677</td>\n",
              "      <td>71.4093</td>\n",
              "      <td>0.304</td>\n",
              "      <td>1.55566</td>\n",
              "      <td>0.26126</td>\n",
              "      <td>323.8</td>\n",
              "    </tr>\n",
              "    <tr>\n",
              "      <th>2</th>\n",
              "      <td>1</td>\n",
              "      <td>8.990372</td>\n",
              "      <td>53.5480</td>\n",
              "      <td>0.304</td>\n",
              "      <td>1.59508</td>\n",
              "      <td>0.39460</td>\n",
              "      <td>308.4</td>\n",
              "    </tr>\n",
              "    <tr>\n",
              "      <th>3</th>\n",
              "      <td>1</td>\n",
              "      <td>11.919268</td>\n",
              "      <td>63.1760</td>\n",
              "      <td>0.304</td>\n",
              "      <td>2.42445</td>\n",
              "      <td>0.07244</td>\n",
              "      <td>309.0</td>\n",
              "    </tr>\n",
              "    <tr>\n",
              "      <th>4</th>\n",
              "      <td>2</td>\n",
              "      <td>2.141366</td>\n",
              "      <td>7.7453</td>\n",
              "      <td>0.293</td>\n",
              "      <td>3.18936</td>\n",
              "      <td>0.00000</td>\n",
              "      <td>269.5</td>\n",
              "    </tr>\n",
              "  </tbody>\n",
              "</table>\n",
              "</div>"
            ],
            "text/plain": [
              "   Location_type  WRF+DOMINO  Impervious_%  Elevation_km  MajorRoads_km  \\\n",
              "0              1   11.615223       58.9488         0.304        1.35858   \n",
              "1              0   11.472677       71.4093         0.304        1.55566   \n",
              "2              1    8.990372       53.5480         0.304        1.59508   \n",
              "3              1   11.919268       63.1760         0.304        2.42445   \n",
              "4              2    2.141366        7.7453         0.293        3.18936   \n",
              "\n",
              "   MinorRoads_km  Distance_to_coast_km  \n",
              "0        0.61637                 313.0  \n",
              "1        0.26126                 323.8  \n",
              "2        0.39460                 308.4  \n",
              "3        0.07244                 309.0  \n",
              "4        0.00000                 269.5  "
            ]
          },
          "execution_count": 6,
          "metadata": {},
          "output_type": "execute_result"
        }
      ],
      "source": [
        "df_BechleLUR_2006_mod = df_BechleLUR_2006[df_BechleLUR_2006.Location_type != 'Unknown']\n",
        "X_qualitative_included = df_BechleLUR_2006_mod.drop([\"Latitude\", \"Longitude\", \"State\",\n",
        "                                \"Monitor_ID\"], axis=1)\n",
        "X_qualitative_included = X_qualitative_included.drop(\"Observed_NO2_ppb\", axis=1)\n",
        "\n",
        "# Replace qualitative values with integers representing categories.\n",
        "mapping = {'Urban And Center City': 0, 'Suburban': 1, 'Rural': 2}\n",
        "X_qualitative_included = X_qualitative_included.replace({'Location_type': mapping})\n",
        "\n",
        "X_qualitative_included.head()"
      ]
    },
    {
      "cell_type": "markdown",
      "metadata": {
        "id": "FdHCgDZ-Xl0S"
      },
      "source": [
        "In dataset, I also convert the qualitative \"State\" column to integer values [0-n] where $n$ is the number of unique states in the US, so that this column may be used in multiple regression."
      ]
    },
    {
      "cell_type": "code",
      "execution_count": null,
      "metadata": {
        "id": "rfyYEUIHXl0S",
        "outputId": "a7da197f-12f2-45bc-dcb9-75d094953d96"
      },
      "outputs": [
        {
          "data": {
            "text/html": [
              "<div>\n",
              "<style scoped>\n",
              "    .dataframe tbody tr th:only-of-type {\n",
              "        vertical-align: middle;\n",
              "    }\n",
              "\n",
              "    .dataframe tbody tr th {\n",
              "        vertical-align: top;\n",
              "    }\n",
              "\n",
              "    .dataframe thead th {\n",
              "        text-align: right;\n",
              "    }\n",
              "</style>\n",
              "<table border=\"1\" class=\"dataframe\">\n",
              "  <thead>\n",
              "    <tr style=\"text-align: right;\">\n",
              "      <th></th>\n",
              "      <th>Monitor_ID</th>\n",
              "      <th>State</th>\n",
              "      <th>Latitude</th>\n",
              "      <th>Longitude</th>\n",
              "      <th>Observed_NO2_ppb</th>\n",
              "      <th>Predicted_NO2_ppb</th>\n",
              "      <th>WRF+DOMINO</th>\n",
              "      <th>Distance_to_coast_km</th>\n",
              "      <th>Elevation_truncated_km</th>\n",
              "      <th>Impervious_100</th>\n",
              "      <th>...</th>\n",
              "      <th>total_8000</th>\n",
              "      <th>total_10000</th>\n",
              "      <th>total_10500</th>\n",
              "      <th>total_11000</th>\n",
              "      <th>total_11500</th>\n",
              "      <th>total_12000</th>\n",
              "      <th>total_12500</th>\n",
              "      <th>total_13000</th>\n",
              "      <th>total_13500</th>\n",
              "      <th>total_14000</th>\n",
              "    </tr>\n",
              "  </thead>\n",
              "  <tbody>\n",
              "    <tr>\n",
              "      <th>0</th>\n",
              "      <td>04-013-0019-42602-1</td>\n",
              "      <td>0</td>\n",
              "      <td>33.48385</td>\n",
              "      <td>-112.14257</td>\n",
              "      <td>23.884706</td>\n",
              "      <td>20.986643</td>\n",
              "      <td>11.615223</td>\n",
              "      <td>313.0</td>\n",
              "      <td>0.304</td>\n",
              "      <td>59.4431</td>\n",
              "      <td>...</td>\n",
              "      <td>1788.38015</td>\n",
              "      <td>2637.91917</td>\n",
              "      <td>2862.73591</td>\n",
              "      <td>3096.99468</td>\n",
              "      <td>3339.22952</td>\n",
              "      <td>3609.20650</td>\n",
              "      <td>3896.25748</td>\n",
              "      <td>4150.54739</td>\n",
              "      <td>4396.96011</td>\n",
              "      <td>4651.18890</td>\n",
              "    </tr>\n",
              "    <tr>\n",
              "      <th>1</th>\n",
              "      <td>04-013-3002-42602-6</td>\n",
              "      <td>0</td>\n",
              "      <td>33.45793</td>\n",
              "      <td>-112.04601</td>\n",
              "      <td>25.089886</td>\n",
              "      <td>20.990096</td>\n",
              "      <td>11.472677</td>\n",
              "      <td>323.8</td>\n",
              "      <td>0.304</td>\n",
              "      <td>72.0000</td>\n",
              "      <td>...</td>\n",
              "      <td>1731.04787</td>\n",
              "      <td>2562.32948</td>\n",
              "      <td>2791.32295</td>\n",
              "      <td>3015.79024</td>\n",
              "      <td>3248.95785</td>\n",
              "      <td>3489.76919</td>\n",
              "      <td>3723.01595</td>\n",
              "      <td>3963.41655</td>\n",
              "      <td>4196.37496</td>\n",
              "      <td>4459.57421</td>\n",
              "    </tr>\n",
              "    <tr>\n",
              "      <th>2</th>\n",
              "      <td>04-013-3003-42602-1</td>\n",
              "      <td>0</td>\n",
              "      <td>33.47968</td>\n",
              "      <td>-111.91721</td>\n",
              "      <td>19.281969</td>\n",
              "      <td>18.088153</td>\n",
              "      <td>8.990372</td>\n",
              "      <td>308.4</td>\n",
              "      <td>0.304</td>\n",
              "      <td>53.0000</td>\n",
              "      <td>...</td>\n",
              "      <td>1254.14847</td>\n",
              "      <td>1965.43346</td>\n",
              "      <td>2157.42878</td>\n",
              "      <td>2362.96458</td>\n",
              "      <td>2584.38952</td>\n",
              "      <td>2820.52494</td>\n",
              "      <td>3052.44507</td>\n",
              "      <td>3315.05126</td>\n",
              "      <td>3607.37536</td>\n",
              "      <td>3921.12841</td>\n",
              "    </tr>\n",
              "    <tr>\n",
              "      <th>3</th>\n",
              "      <td>04-013-3010-42602-1</td>\n",
              "      <td>0</td>\n",
              "      <td>33.46093</td>\n",
              "      <td>-112.11748</td>\n",
              "      <td>30.645138</td>\n",
              "      <td>20.358009</td>\n",
              "      <td>11.919268</td>\n",
              "      <td>309.0</td>\n",
              "      <td>0.304</td>\n",
              "      <td>61.3099</td>\n",
              "      <td>...</td>\n",
              "      <td>1599.66889</td>\n",
              "      <td>2449.51041</td>\n",
              "      <td>2660.60636</td>\n",
              "      <td>2879.53599</td>\n",
              "      <td>3109.74604</td>\n",
              "      <td>3339.37790</td>\n",
              "      <td>3597.15279</td>\n",
              "      <td>3848.61451</td>\n",
              "      <td>4125.08884</td>\n",
              "      <td>4427.95530</td>\n",
              "    </tr>\n",
              "    <tr>\n",
              "      <th>4</th>\n",
              "      <td>04-013-4011-42602-1</td>\n",
              "      <td>0</td>\n",
              "      <td>33.37005</td>\n",
              "      <td>-112.62070</td>\n",
              "      <td>11.070412</td>\n",
              "      <td>8.549622</td>\n",
              "      <td>2.141366</td>\n",
              "      <td>269.5</td>\n",
              "      <td>0.293</td>\n",
              "      <td>12.0000</td>\n",
              "      <td>...</td>\n",
              "      <td>149.29461</td>\n",
              "      <td>222.34687</td>\n",
              "      <td>244.41106</td>\n",
              "      <td>269.54740</td>\n",
              "      <td>293.31410</td>\n",
              "      <td>320.37722</td>\n",
              "      <td>349.76462</td>\n",
              "      <td>386.03419</td>\n",
              "      <td>412.91888</td>\n",
              "      <td>441.52860</td>\n",
              "    </tr>\n",
              "  </tbody>\n",
              "</table>\n",
              "<p>5 rows × 135 columns</p>\n",
              "</div>"
            ],
            "text/plain": [
              "            Monitor_ID  State  Latitude  Longitude  Observed_NO2_ppb  \\\n",
              "0  04-013-0019-42602-1      0  33.48385 -112.14257         23.884706   \n",
              "1  04-013-3002-42602-6      0  33.45793 -112.04601         25.089886   \n",
              "2  04-013-3003-42602-1      0  33.47968 -111.91721         19.281969   \n",
              "3  04-013-3010-42602-1      0  33.46093 -112.11748         30.645138   \n",
              "4  04-013-4011-42602-1      0  33.37005 -112.62070         11.070412   \n",
              "\n",
              "   Predicted_NO2_ppb  WRF+DOMINO  Distance_to_coast_km  \\\n",
              "0          20.986643   11.615223                 313.0   \n",
              "1          20.990096   11.472677                 323.8   \n",
              "2          18.088153    8.990372                 308.4   \n",
              "3          20.358009   11.919268                 309.0   \n",
              "4           8.549622    2.141366                 269.5   \n",
              "\n",
              "   Elevation_truncated_km  Impervious_100  ...  total_8000  total_10000  \\\n",
              "0                   0.304         59.4431  ...  1788.38015   2637.91917   \n",
              "1                   0.304         72.0000  ...  1731.04787   2562.32948   \n",
              "2                   0.304         53.0000  ...  1254.14847   1965.43346   \n",
              "3                   0.304         61.3099  ...  1599.66889   2449.51041   \n",
              "4                   0.293         12.0000  ...   149.29461    222.34687   \n",
              "\n",
              "   total_10500  total_11000  total_11500  total_12000  total_12500  \\\n",
              "0   2862.73591   3096.99468   3339.22952   3609.20650   3896.25748   \n",
              "1   2791.32295   3015.79024   3248.95785   3489.76919   3723.01595   \n",
              "2   2157.42878   2362.96458   2584.38952   2820.52494   3052.44507   \n",
              "3   2660.60636   2879.53599   3109.74604   3339.37790   3597.15279   \n",
              "4    244.41106    269.54740    293.31410    320.37722    349.76462   \n",
              "\n",
              "   total_13000  total_13500  total_14000  \n",
              "0   4150.54739   4396.96011   4651.18890  \n",
              "1   3963.41655   4196.37496   4459.57421  \n",
              "2   3315.05126   3607.37536   3921.12841  \n",
              "3   3848.61451   4125.08884   4427.95530  \n",
              "4    386.03419    412.91888    441.52860  \n",
              "\n",
              "[5 rows x 135 columns]"
            ]
          },
          "execution_count": 9,
          "metadata": {},
          "output_type": "execute_result"
        }
      ],
      "source": [
        "unique_state_values = land_use['State'].unique()\n",
        "mapping_state = {key:value for (value, key) in enumerate (unique_state_values)}\n",
        "\n",
        "land_use = land_use.replace({'State': mapping_state})\n",
        "\n",
        "land_use.head()"
      ]
    },
    {
      "cell_type": "markdown",
      "metadata": {
        "id": "G_xKux7qXl0S"
      },
      "source": [
        "For the analysis of this project, 'Observed_NO2_ppb' will serve as the response variable. Other variables, except 'Predicted_NO2_ppb', which was computed using a different model, and 'Monitor Id' will be analyzed as feature variables"
      ]
    },
    {
      "cell_type": "code",
      "execution_count": null,
      "metadata": {
        "id": "jrbZLo3IXl0S"
      },
      "outputs": [],
      "source": [
        "X = land_use.drop(['Monitor_ID', 'Observed_NO2_ppb', 'Predicted_NO2_ppb'], axis=1)\n",
        "X['Intercept'] = 1\n",
        "y = land_use['Observed_NO2_ppb']"
      ]
    },
    {
      "cell_type": "markdown",
      "metadata": {
        "id": "_-r77B6kXl0T"
      },
      "source": [
        "\n",
        "\n",
        "For this analysis I focus on the state of California"
      ]
    },
    {
      "cell_type": "code",
      "execution_count": null,
      "metadata": {
        "id": "ugojXrkHXl0T",
        "outputId": "55e8a26a-b729-440b-d8a8-25d43a66de1d"
      },
      "outputs": [
        {
          "data": {
            "text/html": [
              "<div>\n",
              "<style scoped>\n",
              "    .dataframe tbody tr th:only-of-type {\n",
              "        vertical-align: middle;\n",
              "    }\n",
              "\n",
              "    .dataframe tbody tr th {\n",
              "        vertical-align: top;\n",
              "    }\n",
              "\n",
              "    .dataframe thead th {\n",
              "        text-align: right;\n",
              "    }\n",
              "</style>\n",
              "<table border=\"1\" class=\"dataframe\">\n",
              "  <thead>\n",
              "    <tr style=\"text-align: right;\">\n",
              "      <th></th>\n",
              "      <th>Monitor_ID</th>\n",
              "      <th>State</th>\n",
              "      <th>Latitude</th>\n",
              "      <th>Longitude</th>\n",
              "      <th>Observed_NO2_ppb</th>\n",
              "      <th>Predicted_NO2_ppb</th>\n",
              "      <th>WRF+DOMINO</th>\n",
              "      <th>Distance_to_coast_km</th>\n",
              "      <th>Elevation_truncated_km</th>\n",
              "      <th>Impervious_100</th>\n",
              "      <th>...</th>\n",
              "      <th>total_8000</th>\n",
              "      <th>total_10000</th>\n",
              "      <th>total_10500</th>\n",
              "      <th>total_11000</th>\n",
              "      <th>total_11500</th>\n",
              "      <th>total_12000</th>\n",
              "      <th>total_12500</th>\n",
              "      <th>total_13000</th>\n",
              "      <th>total_13500</th>\n",
              "      <th>total_14000</th>\n",
              "    </tr>\n",
              "  </thead>\n",
              "  <tbody>\n",
              "    <tr>\n",
              "      <th>11</th>\n",
              "      <td>06-001-0007-42602-1</td>\n",
              "      <td>2</td>\n",
              "      <td>37.687500</td>\n",
              "      <td>-121.784200</td>\n",
              "      <td>14.147250</td>\n",
              "      <td>11.608541</td>\n",
              "      <td>5.311018</td>\n",
              "      <td>41.4</td>\n",
              "      <td>0.138</td>\n",
              "      <td>45.0138</td>\n",
              "      <td>...</td>\n",
              "      <td>778.61432</td>\n",
              "      <td>1012.95550</td>\n",
              "      <td>1078.80008</td>\n",
              "      <td>1153.97517</td>\n",
              "      <td>1219.00105</td>\n",
              "      <td>1284.70826</td>\n",
              "      <td>1345.43782</td>\n",
              "      <td>1402.66736</td>\n",
              "      <td>1478.50461</td>\n",
              "      <td>1561.93413</td>\n",
              "    </tr>\n",
              "    <tr>\n",
              "      <th>12</th>\n",
              "      <td>06-001-1001-42602-1</td>\n",
              "      <td>2</td>\n",
              "      <td>37.535800</td>\n",
              "      <td>-121.961900</td>\n",
              "      <td>15.251911</td>\n",
              "      <td>12.978656</td>\n",
              "      <td>7.423307</td>\n",
              "      <td>16.3</td>\n",
              "      <td>0.018</td>\n",
              "      <td>45.1205</td>\n",
              "      <td>...</td>\n",
              "      <td>1089.87882</td>\n",
              "      <td>1414.84562</td>\n",
              "      <td>1496.89958</td>\n",
              "      <td>1578.00839</td>\n",
              "      <td>1668.95293</td>\n",
              "      <td>1753.24858</td>\n",
              "      <td>1834.50911</td>\n",
              "      <td>1921.03406</td>\n",
              "      <td>2003.20226</td>\n",
              "      <td>2087.82179</td>\n",
              "    </tr>\n",
              "    <tr>\n",
              "      <th>13</th>\n",
              "      <td>06-007-0002-42602-1</td>\n",
              "      <td>2</td>\n",
              "      <td>39.757500</td>\n",
              "      <td>-121.842222</td>\n",
              "      <td>9.294462</td>\n",
              "      <td>7.969050</td>\n",
              "      <td>0.260948</td>\n",
              "      <td>215.5</td>\n",
              "      <td>0.061</td>\n",
              "      <td>47.0000</td>\n",
              "      <td>...</td>\n",
              "      <td>848.81897</td>\n",
              "      <td>1018.08439</td>\n",
              "      <td>1057.37944</td>\n",
              "      <td>1096.26374</td>\n",
              "      <td>1130.57906</td>\n",
              "      <td>1165.51881</td>\n",
              "      <td>1204.35253</td>\n",
              "      <td>1247.93593</td>\n",
              "      <td>1291.50689</td>\n",
              "      <td>1327.76177</td>\n",
              "    </tr>\n",
              "    <tr>\n",
              "      <th>14</th>\n",
              "      <td>06-013-0002-42602-1</td>\n",
              "      <td>2</td>\n",
              "      <td>37.936000</td>\n",
              "      <td>-122.026200</td>\n",
              "      <td>10.801078</td>\n",
              "      <td>12.228855</td>\n",
              "      <td>6.422275</td>\n",
              "      <td>30.2</td>\n",
              "      <td>0.060</td>\n",
              "      <td>43.3642</td>\n",
              "      <td>...</td>\n",
              "      <td>1459.94209</td>\n",
              "      <td>2034.26798</td>\n",
              "      <td>2164.75244</td>\n",
              "      <td>2289.96458</td>\n",
              "      <td>2406.21816</td>\n",
              "      <td>2518.54920</td>\n",
              "      <td>2648.36369</td>\n",
              "      <td>2767.16147</td>\n",
              "      <td>2880.30511</td>\n",
              "      <td>2976.34533</td>\n",
              "    </tr>\n",
              "    <tr>\n",
              "      <th>15</th>\n",
              "      <td>06-013-1002-42602-1</td>\n",
              "      <td>2</td>\n",
              "      <td>38.010556</td>\n",
              "      <td>-121.641389</td>\n",
              "      <td>7.859504</td>\n",
              "      <td>6.898745</td>\n",
              "      <td>4.341748</td>\n",
              "      <td>68.9</td>\n",
              "      <td>0.001</td>\n",
              "      <td>5.1292</td>\n",
              "      <td>...</td>\n",
              "      <td>232.18954</td>\n",
              "      <td>371.79731</td>\n",
              "      <td>412.44104</td>\n",
              "      <td>447.39788</td>\n",
              "      <td>484.86451</td>\n",
              "      <td>529.19387</td>\n",
              "      <td>602.25997</td>\n",
              "      <td>667.65750</td>\n",
              "      <td>730.46139</td>\n",
              "      <td>804.26487</td>\n",
              "    </tr>\n",
              "  </tbody>\n",
              "</table>\n",
              "<p>5 rows × 135 columns</p>\n",
              "</div>"
            ],
            "text/plain": [
              "             Monitor_ID  State   Latitude   Longitude  Observed_NO2_ppb  \\\n",
              "11  06-001-0007-42602-1      2  37.687500 -121.784200         14.147250   \n",
              "12  06-001-1001-42602-1      2  37.535800 -121.961900         15.251911   \n",
              "13  06-007-0002-42602-1      2  39.757500 -121.842222          9.294462   \n",
              "14  06-013-0002-42602-1      2  37.936000 -122.026200         10.801078   \n",
              "15  06-013-1002-42602-1      2  38.010556 -121.641389          7.859504   \n",
              "\n",
              "    Predicted_NO2_ppb  WRF+DOMINO  Distance_to_coast_km  \\\n",
              "11          11.608541    5.311018                  41.4   \n",
              "12          12.978656    7.423307                  16.3   \n",
              "13           7.969050    0.260948                 215.5   \n",
              "14          12.228855    6.422275                  30.2   \n",
              "15           6.898745    4.341748                  68.9   \n",
              "\n",
              "    Elevation_truncated_km  Impervious_100  ...  total_8000  total_10000  \\\n",
              "11                   0.138         45.0138  ...   778.61432   1012.95550   \n",
              "12                   0.018         45.1205  ...  1089.87882   1414.84562   \n",
              "13                   0.061         47.0000  ...   848.81897   1018.08439   \n",
              "14                   0.060         43.3642  ...  1459.94209   2034.26798   \n",
              "15                   0.001          5.1292  ...   232.18954    371.79731   \n",
              "\n",
              "    total_10500  total_11000  total_11500  total_12000  total_12500  \\\n",
              "11   1078.80008   1153.97517   1219.00105   1284.70826   1345.43782   \n",
              "12   1496.89958   1578.00839   1668.95293   1753.24858   1834.50911   \n",
              "13   1057.37944   1096.26374   1130.57906   1165.51881   1204.35253   \n",
              "14   2164.75244   2289.96458   2406.21816   2518.54920   2648.36369   \n",
              "15    412.44104    447.39788    484.86451    529.19387    602.25997   \n",
              "\n",
              "    total_13000  total_13500  total_14000  \n",
              "11   1402.66736   1478.50461   1561.93413  \n",
              "12   1921.03406   2003.20226   2087.82179  \n",
              "13   1247.93593   1291.50689   1327.76177  \n",
              "14   2767.16147   2880.30511   2976.34533  \n",
              "15    667.65750    730.46139    804.26487  \n",
              "\n",
              "[5 rows x 135 columns]"
            ]
          },
          "execution_count": 11,
          "metadata": {},
          "output_type": "execute_result"
        }
      ],
      "source": [
        "land_use_ca = land_use[land_use['State'] == 2 ]\n",
        "land_use_ca.head()"
      ]
    },
    {
      "cell_type": "markdown",
      "source": [
        "There are 133 feature variable available in this data. We need to determine the subset of features that are important"
      ],
      "metadata": {
        "id": "2LW5jjQyZf7S"
      }
    },
    {
      "cell_type": "code",
      "execution_count": null,
      "metadata": {
        "id": "J-4c5wabXl0T",
        "outputId": "3c098280-f950-4c97-8cd4-8c9c6d1a40a0"
      },
      "outputs": [
        {
          "data": {
            "text/plain": [
              "133"
            ]
          },
          "execution_count": 10,
          "metadata": {},
          "output_type": "execute_result"
        }
      ],
      "source": [
        "len(X.columns)"
      ]
    },
    {
      "cell_type": "markdown",
      "metadata": {
        "id": "7dd25UgRXl0T"
      },
      "source": [
        "Best subset selection is not computationally feasible in this analysis because of the enormous number of feature variables combinations that exist"
      ]
    },
    {
      "cell_type": "code",
      "execution_count": null,
      "metadata": {
        "id": "nN1lbC7cXl0T",
        "outputId": "fa1bc90a-fda1-47c9-a0de-687881db77b4"
      },
      "outputs": [
        {
          "name": "stdout",
          "output_type": "stream",
          "text": [
            "The total number of models that would need to be compared are:\n",
            " 5444517870735015415413993718908291383296\n"
          ]
        }
      ],
      "source": [
        "total_models = 2**(len(X.columns)-1)\n",
        "print('The total number of models that would need to be compared are:\\n', total_models)"
      ]
    },
    {
      "cell_type": "markdown",
      "metadata": {
        "id": "V4HjKc6WXl0T"
      },
      "source": [
        "Forward stepwise selection is a computationally good substitute to best subset selection. It begins with a model containing no predictors, and then adds predictors to the model, one-at-a-time, until all predictors are in the model or the number of the predictors in the model have reached n-1, where n is the number of observations. At each step the variable that gives the greatest additional improvement to the fit is added to the model.\n",
        "\n",
        "I create a function called 'processSubset' that computes the RSS (residual sum of squares) given the matrix of all predictive variables (X), the response vector (y), and a set of features (feature_set). It will then return both the model and the RSS."
      ]
    },
    {
      "cell_type": "code",
      "execution_count": null,
      "metadata": {
        "id": "QPymK3M1Xl0T"
      },
      "outputs": [],
      "source": [
        "def processSubset(X, y, feature_set):\n",
        "    # Fit model on feature_set and calculate RSS\n",
        "    model = sm.OLS(y,X[list(feature_set)])\n",
        "    regr = model.fit()\n",
        "    RSS = np.sum(np.square(y-regr.predict()))\n",
        "    return {\"model\":regr, \"RSS\":RSS}"
      ]
    },
    {
      "cell_type": "markdown",
      "metadata": {
        "id": "4vVBXXUrXl0T"
      },
      "source": [
        "Next, I create a function called 'forward' that will compare the effect of adding one more feature variable to the model"
      ]
    },
    {
      "cell_type": "code",
      "execution_count": null,
      "metadata": {
        "id": "aFh4MoiCXl0U"
      },
      "outputs": [],
      "source": [
        "def forward(X, y, predictors):\n",
        "\n",
        "    # Pull out predictors we still need to process\n",
        "    remaining_predictors = [p for p in X.columns if p not in predictors]\n",
        "    results = []\n",
        "\n",
        "    for p in remaining_predictors:\n",
        "        results.append(processSubset(X, y, predictors+[p]))\n",
        "\n",
        "    # Put the results in a dataframe\n",
        "    models = pd.DataFrame(results)\n",
        "\n",
        "    # Choose the model with the lowest RSS\n",
        "    best_model = models.loc[models['RSS'].argmin()]\n",
        "\n",
        "    # Return the best model\n",
        "    return best_model"
      ]
    },
    {
      "cell_type": "markdown",
      "metadata": {
        "id": "22PijLpfXl0U"
      },
      "source": [
        "I next, using the functions above, I implement forward stepwise selection on the feature variables set."
      ]
    },
    {
      "cell_type": "code",
      "execution_count": null,
      "metadata": {
        "id": "4lypQArWXl0U"
      },
      "outputs": [],
      "source": [
        "models_fwd = pd.DataFrame(columns=[\"RSS\", \"model\"])\n",
        "\n",
        "predictors = ['Intercept']\n",
        "\n",
        "for i in range(1,len(X.columns)):\n",
        "    models_fwd.loc[i] = forward(X, y, predictors)\n",
        "    predictors = models_fwd.loc[i][\"model\"].model.exog_names"
      ]
    },
    {
      "cell_type": "code",
      "execution_count": null,
      "metadata": {
        "id": "5_wL4JNAXl0U",
        "outputId": "3279a315-c536-4952-9df9-1785cf29ea30"
      },
      "outputs": [
        {
          "data": {
            "text/html": [
              "<div>\n",
              "<style scoped>\n",
              "    .dataframe tbody tr th:only-of-type {\n",
              "        vertical-align: middle;\n",
              "    }\n",
              "\n",
              "    .dataframe tbody tr th {\n",
              "        vertical-align: top;\n",
              "    }\n",
              "\n",
              "    .dataframe thead th {\n",
              "        text-align: right;\n",
              "    }\n",
              "</style>\n",
              "<table border=\"1\" class=\"dataframe\">\n",
              "  <thead>\n",
              "    <tr style=\"text-align: right;\">\n",
              "      <th></th>\n",
              "      <th>RSS</th>\n",
              "      <th>model</th>\n",
              "    </tr>\n",
              "  </thead>\n",
              "  <tbody>\n",
              "    <tr>\n",
              "      <th>1</th>\n",
              "      <td>5995.913133</td>\n",
              "      <td>&lt;statsmodels.regression.linear_model.Regressio...</td>\n",
              "    </tr>\n",
              "    <tr>\n",
              "      <th>2</th>\n",
              "      <td>4004.202559</td>\n",
              "      <td>&lt;statsmodels.regression.linear_model.Regressio...</td>\n",
              "    </tr>\n",
              "    <tr>\n",
              "      <th>3</th>\n",
              "      <td>3617.570620</td>\n",
              "      <td>&lt;statsmodels.regression.linear_model.Regressio...</td>\n",
              "    </tr>\n",
              "    <tr>\n",
              "      <th>4</th>\n",
              "      <td>3407.698080</td>\n",
              "      <td>&lt;statsmodels.regression.linear_model.Regressio...</td>\n",
              "    </tr>\n",
              "    <tr>\n",
              "      <th>5</th>\n",
              "      <td>3207.831738</td>\n",
              "      <td>&lt;statsmodels.regression.linear_model.Regressio...</td>\n",
              "    </tr>\n",
              "  </tbody>\n",
              "</table>\n",
              "</div>"
            ],
            "text/plain": [
              "           RSS                                              model\n",
              "1  5995.913133  <statsmodels.regression.linear_model.Regressio...\n",
              "2  4004.202559  <statsmodels.regression.linear_model.Regressio...\n",
              "3  3617.570620  <statsmodels.regression.linear_model.Regressio...\n",
              "4  3407.698080  <statsmodels.regression.linear_model.Regressio...\n",
              "5  3207.831738  <statsmodels.regression.linear_model.Regressio..."
            ]
          },
          "execution_count": 57,
          "metadata": {},
          "output_type": "execute_result"
        }
      ],
      "source": [
        "models_fwd.head()"
      ]
    },
    {
      "cell_type": "markdown",
      "metadata": {
        "id": "J89XdlNGXl0U"
      },
      "source": [
        "I plot the RSS as a function of the number of predictors included in the forward stepwise selection."
      ]
    },
    {
      "cell_type": "code",
      "execution_count": null,
      "metadata": {
        "id": "oBBJp1iwXl0U",
        "outputId": "8facdd84-e63d-4951-f18b-5af92b0bc2f5"
      },
      "outputs": [
        {
          "data": {
            "image/png": "[encoded data removed]",
            "text/plain": [
              "<Figure size 432x288 with 1 Axes>"
            ]
          },
          "metadata": {
            "needs_background": "light"
          },
          "output_type": "display_data"
        }
      ],
      "source": [
        "plt.plot(models_fwd.index, models_fwd.RSS)\n",
        "plt.xlabel('Number of Predictors')\n",
        "plt.ylabel('RSS')\n",
        "plt.title('Forward Stepwise Selection')\n",
        "plt.show()"
      ]
    },
    {
      "cell_type": "markdown",
      "metadata": {
        "id": "87EPP_jpXl0U"
      },
      "source": [
        "The plot above is monotonically decreasing. It suggests that adding extra variables makes the model more accurate. While this is true, the extra features increases the likelihood that the model will overfitting the data.\n",
        "\n",
        "To remedy this issue, I perform 5-fold cross validation to determine the optimal number of features to include."
      ]
    },
    {
      "cell_type": "code",
      "execution_count": null,
      "metadata": {
        "id": "lL5iSXL5Xl0U"
      },
      "outputs": [],
      "source": [
        "def processSubset_CV(X_fold_train, y_fold_train, X_fold_val, y_fold_val, feature_set):\n",
        "    # Fit model on feature_set and calculate RSS\n",
        "    model = sm.OLS(y_fold_train,X_fold_train[list(feature_set)])\n",
        "    regr = model.fit()\n",
        "    RSS_val = ((regr.predict(X_fold_val[list(feature_set)]) - y_fold_val) ** 2).sum()\n",
        "    return {\"model\":regr, \"RSS_val\":RSS_val}"
      ]
    },
    {
      "cell_type": "code",
      "execution_count": null,
      "metadata": {
        "id": "2LGuNBkdXl0V"
      },
      "outputs": [],
      "source": [
        "def forward_CV(X_fold_train, y_fold_train, X_fold_val, y_fold_val, predictors):\n",
        "\n",
        "    # Pull out predictors we still need to process\n",
        "    remaining_predictors = [p for p in X_fold_train.columns if p not in predictors]\n",
        "    results = []\n",
        "\n",
        "    for p in remaining_predictors:\n",
        "        results.append(processSubset_CV(X_fold_train, y_fold_train, X_fold_val, y_fold_val, predictors+[p]))\n",
        "\n",
        "    # Put the results in a dataframe\n",
        "    models = pd.DataFrame(results)\n",
        "\n",
        "    # Choose the model with the lowest validation RSS\n",
        "    best_model = models.loc[models['RSS_val'].argmin()]\n",
        "\n",
        "    # Return the best model\n",
        "    return best_model"
      ]
    },
    {
      "cell_type": "code",
      "execution_count": null,
      "metadata": {
        "id": "Bp2thqJtXl0V"
      },
      "outputs": [],
      "source": [
        "kf = KFold(n_splits=5, shuffle=True, random_state=0)\n",
        "\n",
        "RSS_df = pd.DataFrame()\n",
        "model_df = pd.DataFrame()\n",
        "fold = 0\n",
        "\n",
        "for train_index, val_index in kf.split(X):\n",
        "    # Separate each array into respective variables\n",
        "    X_fold_train = np.array(X)[train_index]\n",
        "    y_fold_train = y[train_index]\n",
        "    X_fold_val = np.array(X)[val_index]\n",
        "    y_fold_val = y[val_index]\n",
        "\n",
        "    X_fold_train = pd.DataFrame(data=X_fold_train, index = train_index, columns=X.columns)\n",
        "    X_fold_val = pd.DataFrame(data=X_fold_val, index = val_index, columns=X.columns)\n",
        "\n",
        "    models_fwd_CV = pd.DataFrame(columns=[\"RSS_val\", \"model\"])\n",
        "\n",
        "    predictors = ['Intercept']\n",
        "\n",
        "    for i in range(1,len(X.columns)):\n",
        "        models_fwd_CV.loc[i] = forward_CV(X_fold_train, y_fold_train, X_fold_val, y_fold_val, predictors)\n",
        "        predictors = models_fwd_CV.loc[i][\"model\"].model.exog_names\n",
        "\n",
        "    RSS_df[fold] = models_fwd_CV.RSS_val\n",
        "    model_df[fold] = models_fwd_CV.model\n",
        "\n",
        "    fold = fold +1\n",
        "\n",
        "RSS_df['AverageValidationRSS']= RSS_df.mean(axis = 1)"
      ]
    },
    {
      "cell_type": "code",
      "execution_count": null,
      "metadata": {
        "id": "sXaHXp6FXl0V",
        "outputId": "f80c6c10-f2ab-4f92-b7bd-3cfabedef505"
      },
      "outputs": [
        {
          "data": {
            "image/png": "[encoded data removed]",
            "text/plain": [
              "<Figure size 432x288 with 1 Axes>"
            ]
          },
          "metadata": {
            "needs_background": "light"
          },
          "output_type": "display_data"
        }
      ],
      "source": [
        "plt.plot(models_fwd_CV.index, RSS_df.AverageValidationRSS)\n",
        "plt.xlabel('Number of Predictors')\n",
        "plt.ylabel('Average RSS of Validation Sets')\n",
        "plt.title('Forward Stepwise Selection')\n",
        "plt.show()"
      ]
    },
    {
      "cell_type": "markdown",
      "metadata": {
        "id": "K0CshlOjXl0V"
      },
      "source": [
        "I use the one standard error rule to choose the number of predictors that should be used based on forward stepwise selection. This rule balances the variance to bias compromise of model selection"
      ]
    },
    {
      "cell_type": "code",
      "execution_count": null,
      "metadata": {
        "id": "lMulgQTfXl0V",
        "outputId": "47b0492d-c12b-434c-958e-0ca3479faa8d"
      },
      "outputs": [
        {
          "name": "stdout",
          "output_type": "stream",
          "text": [
            "27\n"
          ]
        }
      ],
      "source": [
        "m_rss = RSS_df.AverageValidationRSS\n",
        "min_RSS_id = m_rss.idxmin()\n",
        "lowest_ = m_rss[min_RSS_id]\n",
        "SE_CV5 = m_rss.var()**0.5 / 5**0.5\n",
        "index_ = []\n",
        "value_ =[]\n",
        "\n",
        "for i in range(1,30):\n",
        "    if m_rss.iloc[i] > lowest_ and m_rss.iloc[i] < lowest_ + SE_CV5:\n",
        "        index_.append(i)\n",
        "        value_.append(m_rss.iloc[i])\n",
        "\n",
        "index_corr = value_.index(min(value_))\n",
        "num_predictors = index_[index_corr] - 1\n",
        "\n",
        "print(num_predictors)"
      ]
    },
    {
      "cell_type": "markdown",
      "metadata": {
        "id": "gOCsb_T6Xl0V"
      },
      "source": [
        "\n",
        "\n",
        " I use the one standard error rule to choose the number of predictors that should be used based on backward stepwise selection i.e I start with a model with all the features, and each feature removed in a stepwise fashion that minimizes the RSS."
      ]
    },
    {
      "cell_type": "code",
      "execution_count": null,
      "metadata": {
        "id": "bnE7uMJVXl0V"
      },
      "outputs": [],
      "source": [
        "\n",
        "from itertools import combinations\n",
        "\n",
        "def backward_CV(X_fold_train, y_fold_train, X_fold_val, y_fold_val, predictors):\n",
        "\n",
        "    results = []\n",
        "\n",
        "    if len(predictors) > 1:\n",
        "        predictors_k = [i for i in combinations(predictors, len(predictors)-1)]\n",
        "    else:\n",
        "        predictors_k = predictors\n",
        "\n",
        "\n",
        "    for sub_set in predictors_k:\n",
        "        results.append(processSubset_CV(X_fold_train, y_fold_train, X_fold_val, y_fold_val, list(sub_set)))\n",
        "\n",
        "    # Put the results in a dataframe\n",
        "    models = pd.DataFrame(results)\n",
        "\n",
        "    # Choose the model with the lowest validation RSS\n",
        "    best_model = models.loc[models['RSS_val'].argmin()]\n",
        "\n",
        "    # Return the best model\n",
        "    return best_model\n",
        "\n",
        "\n",
        "kf = KFold(n_splits=5, shuffle=True, random_state=0)\n",
        "\n",
        "RSS_df = pd.DataFrame()\n",
        "model_df = pd.DataFrame()\n",
        "fold = 0\n",
        "\n",
        "for train_index, val_index in kf.split(X):\n",
        "    # Separate each array into respective variables\n",
        "    X_fold_train = np.array(X)[train_index]\n",
        "    y_fold_train = y[train_index]\n",
        "    X_fold_val = np.array(X)[val_index]\n",
        "    y_fold_val = y[val_index]\n",
        "\n",
        "    X_fold_train = pd.DataFrame(data=X_fold_train, index = train_index, columns=X.columns)\n",
        "    X_fold_val = pd.DataFrame(data=X_fold_val, index = val_index, columns=X.columns)\n",
        "\n",
        "    models_bwd_CV = pd.DataFrame(columns=[\"RSS_val\", \"model\"])\n",
        "\n",
        "    predictors = list(X.columns)\n",
        "    predictors.remove('Intercept')\n",
        "    predictors.insert(0,'Intercept')\n",
        "\n",
        "    for i in range(1,len(X.columns)):\n",
        "        models_bwd_CV.loc[i] = backward_CV(X_fold_train, y_fold_train, X_fold_val, y_fold_val, predictors)\n",
        "        predictors = models_bwd_CV.loc[i][\"model\"].model.exog_names\n",
        "\n",
        "    RSS_df[fold] = models_bwd_CV.RSS_val\n",
        "    model_df[fold] = models_bwd_CV.model\n",
        "\n",
        "    fold = fold +1\n",
        "\n",
        "RSS_df['AverageValidationRSS']= RSS_df.mean(axis = 1)\n",
        "\n",
        "# one standard error rule\n",
        "m_rss = RSS_df.AverageValidationRSS\n",
        "min_RSS_id = m_rss.idxmin()\n",
        "lowest_ = m_rss[min_RSS_id]\n",
        "SE_CV5 = m_rss.var()**0.5 / 5**0.5\n",
        "index_ = []\n",
        "value_ =[]\n",
        "\n",
        "for i in range(1,30):\n",
        "    if m_rss.iloc[i] > lowest_ and m_rss.iloc[i] < lowest_ + SE_CV5:\n",
        "        index_.append(i)\n",
        "        value_.append(m_rss.iloc[i])\n",
        "\n",
        "index_corr = value_.index(min(value_))\n",
        "num_predictors = index_[index_corr] - 1\n",
        "\n",
        "print(num_predictors)\n"
      ]
    },
    {
      "cell_type": "code",
      "execution_count": null,
      "metadata": {
        "id": "18uBqEAYXl0V"
      },
      "outputs": [],
      "source": [
        "plt.plot(models_bwd_CV.index, RSS_df.AverageValidationRSS)\n",
        "plt.xlabel('Number of Predictors')\n",
        "plt.ylabel('Average RSS of Validation Sets')\n",
        "plt.title('Backward Stepwise Selection')\n",
        "plt.show()\n"
      ]
    },
    {
      "cell_type": "markdown",
      "metadata": {
        "id": "R2AmFbmLXl0V"
      },
      "source": [
        "Next I attempt running ridge regression on the dataset. First I split the data into training and testing sets"
      ]
    },
    {
      "cell_type": "code",
      "execution_count": null,
      "metadata": {
        "id": "WRoBXCquXl0W",
        "outputId": "737ae940-fa3a-491a-f487-577c603829f6"
      },
      "outputs": [
        {
          "name": "stdout",
          "output_type": "stream",
          "text": [
            "(295, 133) (295,) (74, 133) (74,)\n"
          ]
        }
      ],
      "source": [
        "from sklearn.model_selection import train_test_split\n",
        "X_train, X_test, y_train, y_test = train_test_split(X, y, test_size=0.2, random_state = 0)\n",
        "print(X_train.shape, y_train.shape, X_test.shape, y_test.shape)"
      ]
    },
    {
      "cell_type": "markdown",
      "metadata": {
        "id": "mWmZfUr2Xl0W"
      },
      "source": [
        "Here I run ridge regression using an initial alpha value of 1"
      ]
    },
    {
      "cell_type": "code",
      "execution_count": null,
      "metadata": {
        "id": "2Me-g4NLXl0W",
        "outputId": "41038b03-b1ec-449a-e053-0e0a2e34adb4"
      },
      "outputs": [
        {
          "name": "stdout",
          "output_type": "stream",
          "text": [
            "The MSE is 14.238810425745164\n"
          ]
        }
      ],
      "source": [
        "from sklearn.linear_model import Ridge\n",
        "ridge = Ridge(alpha = 1)\n",
        "ridge.fit(X_train, y_train)\n",
        "ridge_coefficients = ridge.coef_\n",
        "ridge_mse = mean_squared_error(y_test, ridge.predict(X_test))\n",
        "\n",
        "print('The MSE is', ridge_mse)\n"
      ]
    },
    {
      "cell_type": "markdown",
      "metadata": {
        "id": "pwHzd8mhXl0W"
      },
      "source": [
        " Next I use 5-fold cross-validation to determine the optimal value of alpha. I consider alpha values within np.linspace(0.0001, 5000, 1000). Then, using this optimal value of alpha, I fit a ridge regression and calculate the mean squared error of the test dataset."
      ]
    },
    {
      "cell_type": "code",
      "execution_count": null,
      "metadata": {
        "id": "tgHsBiORXl0W",
        "outputId": "98fe228e-2403-47ef-9a04-dba770079f80"
      },
      "outputs": [
        {
          "name": "stdout",
          "output_type": "stream",
          "text": [
            "1066.0661447447446\n",
            "12.22537903124162\n"
          ]
        }
      ],
      "source": [
        "from sklearn.linear_model import RidgeCV\n",
        "\n",
        "model_ridge = RidgeCV(alphas=np.linspace(0.0001,5000,1000), cv=5)\n",
        "model_ridge.fit(X_train, y_train)\n",
        "alp_ = model_ridge.alpha_\n",
        "\n",
        "#use determined alpha to find optimal mse\n",
        "optimal_ridge = RidgeCV(alphas=[alp_], cv=5)\n",
        "model = optimal_ridge.fit(X_train, y_train)\n",
        "y_pred = optimal_ridge.predict(X_test)\n",
        "mse_ridge = mean_squared_error(y_test, y_pred)\n",
        "print(alp_)\n",
        "print(mse_ridge)\n",
        "\n"
      ]
    },
    {
      "cell_type": "markdown",
      "metadata": {
        "id": "ywX4Ip6rXl0W"
      },
      "source": [
        "Here I plot the magnitude of the coefficients of the ridge regression."
      ]
    },
    {
      "cell_type": "code",
      "execution_count": null,
      "metadata": {
        "id": "S3bcpacXXl0W",
        "outputId": "eca5b6cb-6ff3-442b-da96-8c286a7f4fa9"
      },
      "outputs": [
        {
          "data": {
            "image/png": "[encoded data removed]",
            "text/plain": [
              "<Figure size 1224x360 with 1 Axes>"
            ]
          },
          "metadata": {
            "needs_background": "light"
          },
          "output_type": "display_data"
        }
      ],
      "source": [
        "ridge_coefs = pd.Series(optimal_ridge.coef_, index=X.columns)\n",
        "plt.figure(figsize=(17, 5))\n",
        "plt.tick_params(axis='x', labelsize=7)\n",
        "ridge_coefs.plot(kind='bar');\n",
        "plt.show()\n"
      ]
    },
    {
      "cell_type": "markdown",
      "metadata": {
        "id": "Adkko8TFXl0W"
      },
      "source": [
        "From the data, I know that variables involved in the analysis so far cut across a wide variety of ranges. I would like to investigate the effects of standardizing the training data on the ridge regression model\n"
      ]
    },
    {
      "cell_type": "code",
      "execution_count": null,
      "metadata": {
        "id": "GWPWxNyQXl0W",
        "outputId": "cb775456-9dbb-4de5-af45-de341ede0461"
      },
      "outputs": [
        {
          "name": "stdout",
          "output_type": "stream",
          "text": [
            "15.015114714714713\n",
            "9.53572461747108\n"
          ]
        }
      ],
      "source": [
        "\n",
        "from sklearn.preprocessing import StandardScaler\n",
        "\n",
        "# standardize dataset\n",
        "scale = StandardScaler()\n",
        "X_train_std = scale.fit_transform(X_train)\n",
        "X_test_std = scale.fit_transform(X_test)\n",
        "\n",
        "\n",
        "# use 5-fold cross-validation to determine optimal alpha\n",
        "model_ridge = RidgeCV(alphas=np.linspace(0.0001,5000,1000), cv=5)\n",
        "model_ridge.fit(X_train_std, y_train)\n",
        "alp_ = model_ridge.alpha_\n",
        "\n",
        "# use determined alpha to find optimal mse\n",
        "optimal_ridge = RidgeCV(alphas=[alp_], cv=5)\n",
        "model = optimal_ridge.fit(X_train_std, y_train)\n",
        "y_pred = optimal_ridge.predict(X_test_std)\n",
        "mse_ridge = mean_squared_error(y_test, y_pred)\n",
        "print(alp_)\n",
        "print(mse_ridge)\n"
      ]
    },
    {
      "cell_type": "code",
      "execution_count": null,
      "metadata": {
        "id": "KHq-TXCAXl0W",
        "outputId": "d4834fb4-d8a8-4257-b853-bd7bb7aa4bea"
      },
      "outputs": [
        {
          "data": {
            "image/png": "[encoded data removed]",
            "text/plain": [
              "<Figure size 1224x360 with 1 Axes>"
            ]
          },
          "metadata": {
            "needs_background": "light"
          },
          "output_type": "display_data"
        }
      ],
      "source": [
        "# plot magnitude of the coefficients of the ridge regression model\n",
        "ridge_coefs = pd.Series(optimal_ridge.coef_, index=X.columns)\n",
        "plt.figure(figsize=(17, 5))\n",
        "plt.tick_params(axis='x', labelsize=7)\n",
        "ridge_coefs.plot(kind='bar');\n",
        "plt.show()\n"
      ]
    },
    {
      "cell_type": "markdown",
      "metadata": {
        "id": "q-xvDyc1Xl0W"
      },
      "source": [
        "\n",
        "The ridge regression doesn't completely erase some features. It can get really close to 0, and this can still cause problems with model complexity and high variance. I attemp Lasso regression to solve this problem. I create a lasso model with an `alpha` value of 1. Fit the training data onto the model, then return the mean squared error (MSE) of the test data and a list of coefficients for each feature."
      ]
    },
    {
      "cell_type": "code",
      "execution_count": null,
      "metadata": {
        "id": "gAVwdNE2Xl0W",
        "outputId": "6f3ae3e2-9f4a-407d-85dc-7d48d49f88e0"
      },
      "outputs": [
        {
          "name": "stdout",
          "output_type": "stream",
          "text": [
            "The MSE is: 10.792634748374264\n"
          ]
        },
        {
          "data": {
            "image/png": "[encoded data removed]",
            "text/plain": [
              "<Figure size 1224x360 with 1 Axes>"
            ]
          },
          "metadata": {
            "needs_background": "light"
          },
          "output_type": "display_data"
        }
      ],
      "source": [
        "from sklearn.linear_model import Lasso\n",
        "\n",
        "lasso = Lasso(alpha = 1)\n",
        "lasso.fit(X_train, y_train)\n",
        "lasso_coefficients = lasso.coef_\n",
        "\n",
        "lasso_mse = mean_squared_error(y_test, lasso.predict(X_test))\n",
        "print('The MSE is:', lasso_mse)\n",
        "\n",
        "lasso_coefs = pd.Series(lasso.coef_, index=X.columns)\n",
        "plt.figure(figsize=(17, 5))\n",
        "plt.tick_params(axis='x', labelsize=7)\n",
        "lasso_coefs.plot(kind='bar');\n",
        "plt.show()"
      ]
    },
    {
      "cell_type": "markdown",
      "metadata": {
        "id": "n4tt0T3vXl0W"
      },
      "source": [
        "I used an arbitrary choice of alpha, 1. Now I use 5-fold cross-validation to determine the optimal value of alpha to use in lasso. Next, using this optimal value of alpha, I fit a lasso regression and calculate the mean squared error of the test dataset."
      ]
    },
    {
      "cell_type": "code",
      "execution_count": null,
      "metadata": {
        "id": "DaszXDJrXl0X",
        "outputId": "ab2d6234-8e49-4ebf-d3d9-72d079eb49de"
      },
      "outputs": [
        {
          "name": "stdout",
          "output_type": "stream",
          "text": [
            "5.005104904904904\n",
            "13.66803114884088\n"
          ]
        }
      ],
      "source": [
        "from sklearn.linear_model import LassoCV\n",
        "\n",
        "model_Lasso = LassoCV(alphas=np.linspace(0.0001,5000,1000), cv=5)\n",
        "model_Lasso.fit(X_train, y_train)\n",
        "alp_ = model_Lasso.alpha_\n",
        "\n",
        "# use determined alpha to find optimal mse\n",
        "optimal_Lasso = LassoCV(alphas=[alp_], cv=5)\n",
        "model = optimal_Lasso.fit(X_train, y_train)\n",
        "y_pred = optimal_Lasso.predict(X_test)\n",
        "mse_Lasso = mean_squared_error(y_test, y_pred)\n",
        "print(alp_)\n",
        "print(mse_Lasso)"
      ]
    },
    {
      "cell_type": "markdown",
      "metadata": {
        "id": "zmkqDe2_Xl0X"
      },
      "source": [
        "I plot the resulting magnitude of the coefficients of the ridge regression."
      ]
    },
    {
      "cell_type": "code",
      "execution_count": null,
      "metadata": {
        "id": "S28CeZcIXl0X",
        "outputId": "de91e798-8837-45a2-c2c3-5a1d0893d253"
      },
      "outputs": [
        {
          "data": {
            "image/png": "[encoded data removed]",
            "text/plain": [
              "<Figure size 1224x360 with 1 Axes>"
            ]
          },
          "metadata": {
            "needs_background": "light"
          },
          "output_type": "display_data"
        }
      ],
      "source": [
        "lasso_coefs = pd.Series(optimal_Lasso.coef_, index=X.columns)\n",
        "plt.figure(figsize=(17, 5))\n",
        "plt.tick_params(axis='x', labelsize=7)\n",
        "lasso_coefs.plot(kind='bar');\n",
        "plt.show()"
      ]
    },
    {
      "cell_type": "markdown",
      "metadata": {
        "id": "1megTwaOXl0X"
      },
      "source": [
        " Here I explore the effect of standardizing the feature matrix, X, on the results from lasso, and then calculate the optimal alpha based on 5-fold cross-validation and test set mean squared error. Also for both RidgeCV and LassoCV with standardization, I plot the magnitude of the coefficients.\n"
      ]
    },
    {
      "cell_type": "code",
      "execution_count": null,
      "metadata": {
        "id": "E5nubh4oXl0X",
        "outputId": "0f8627a2-f269-43f1-82e5-4aa324f74ed5"
      },
      "outputs": [
        {
          "name": "stdout",
          "output_type": "stream",
          "text": [
            "0.0001\n",
            "10.662651284435423\n"
          ]
        }
      ],
      "source": [
        "#scale = StandardScaler()\n",
        "X_train_std = scale.fit_transform(X_train)\n",
        "X_test_std = scale.fit_transform(X_test)\n",
        "\n",
        "model_Lasso = LassoCV(alphas=np.linspace(0.0001,5000,1000), cv=5)\n",
        "model_Lasso.fit(X_train_std, y_train)\n",
        "alp_ = model_Lasso.alpha_\n",
        "\n",
        "#use determined alpha to find optimal mse\n",
        "optimal_Lasso = LassoCV(alphas=[alp_], cv=5)\n",
        "model = optimal_Lasso.fit(X_train_std, y_train)\n",
        "y_pred = optimal_Lasso.predict(X_test_std)\n",
        "mse_Lasso = mean_squared_error(y_test, y_pred)\n",
        "print(alp_)\n",
        "print(mse_Lasso)"
      ]
    },
    {
      "cell_type": "code",
      "execution_count": null,
      "metadata": {
        "id": "uRjXRQbxXl0X",
        "outputId": "1090797f-704a-4a31-9a1e-1a1e23869673"
      },
      "outputs": [
        {
          "data": {
            "image/png": "[encoded data removed]",
            "text/plain": [
              "<Figure size 1224x360 with 1 Axes>"
            ]
          },
          "metadata": {
            "needs_background": "light"
          },
          "output_type": "display_data"
        }
      ],
      "source": [
        "lasso_coefs = pd.Series(optimal_Lasso.coef_, index=X.columns)\n",
        "plt.figure(figsize=(17, 5))\n",
        "plt.tick_params(axis='x', labelsize=7)\n",
        "lasso_coefs.plot(kind='bar');\n",
        "plt.show()"
      ]
    },
    {
      "cell_type": "code",
      "execution_count": null,
      "metadata": {
        "collapsed": true,
        "jupyter": {
          "outputs_hidden": true
        },
        "id": "9eg48W1rXl0X"
      },
      "outputs": [],
      "source": [
        "# standardizing the training data produces more non-zero coefficients of predictors than the lasso trained no non-standardized data"
      ]
    },
    {
      "cell_type": "markdown",
      "metadata": {
        "id": "7Dmn-gnbXl0X"
      },
      "source": [
        " Both RidgeCV and LassoCV I normalize the feature matrix, and then calculate the optimal alpha based on 5-fold cross-validation and test set mean squared error. Also for both RidgeCV and LassoCV with normalization, I plot the magnitude of the coefficients."
      ]
    },
    {
      "cell_type": "code",
      "execution_count": null,
      "metadata": {
        "id": "T__1sOsIXl0X",
        "outputId": "bfd4ecea-d635-4a75-84bb-4e5ffd3739e8"
      },
      "outputs": [
        {
          "name": "stdout",
          "output_type": "stream",
          "text": [
            "0.0001\n",
            "9.913666414023195\n"
          ]
        }
      ],
      "source": [
        "from sklearn.preprocessing import StandardScaler\n",
        "from sklearn.linear_model import LassoCV\n",
        "from sklearn.linear_model import RidgeCV\n",
        "\n",
        "# Lasso\n",
        "model_Lasso = LassoCV(alphas=np.linspace(0.0001,5000,1000), normalize=True, cv=5)\n",
        "model_Lasso.fit(X_train, y_train)\n",
        "alp_ = model_Lasso.alpha_\n",
        "\n",
        "# use determined alpha to find optimal mse\n",
        "optimal_Lasso = LassoCV(alphas=[alp_], cv=5)\n",
        "model = optimal_Lasso.fit(X_train, y_train)\n",
        "y_pred = optimal_Lasso.predict(X_test)\n",
        "mse_Lasso = mean_squared_error(y_test, y_pred)\n",
        "print(alp_)\n",
        "print(mse_Lasso)\n",
        "\n"
      ]
    },
    {
      "cell_type": "code",
      "execution_count": null,
      "metadata": {
        "id": "vC_t2TyVXl0X",
        "outputId": "cb9650ea-4439-4dd4-b5d4-53aaeb6d95ec"
      },
      "outputs": [
        {
          "name": "stdout",
          "output_type": "stream",
          "text": [
            "0.0001\n",
            "15.03540134582771\n"
          ]
        }
      ],
      "source": [
        "# ridge\n",
        "model_ridge = RidgeCV(alphas=np.linspace(0.0001,5000,1000), normalize=True, cv=5)\n",
        "model_ridge.fit(X_train, y_train)\n",
        "alp_ = model_ridge.alpha_\n",
        "\n",
        "# use determined alpha to find optimal mse\n",
        "optimal_ridge = RidgeCV(alphas=[alp_], cv=5)\n",
        "model = optimal_ridge.fit(X_train, y_train)\n",
        "y_pred = optimal_ridge.predict(X_test)\n",
        "mse_ridge = mean_squared_error(y_test, y_pred)\n",
        "print(alp_)\n",
        "print(mse_ridge)"
      ]
    },
    {
      "cell_type": "code",
      "execution_count": null,
      "metadata": {
        "id": "cIIAyHtFXl0X",
        "outputId": "e565b3ed-d36b-4868-bdf8-e9bcef699e3a"
      },
      "outputs": [
        {
          "data": {
            "image/png": "[encoded data removed]",
            "text/plain": [
              "<Figure size 1224x360 with 1 Axes>"
            ]
          },
          "metadata": {
            "needs_background": "light"
          },
          "output_type": "display_data"
        }
      ],
      "source": [
        "# ridge\n",
        "ridge_coefs = pd.Series(optimal_ridge.coef_, index=X.columns).\n",
        "plt.figure(figsize=(17, 5))\n",
        "plt.tick_params(axis='x', labelsize=7)\n",
        "ridge_coefs.plot(kind='bar');\n",
        "plt.show()\n",
        "#print(ridge_coefs)"
      ]
    },
    {
      "cell_type": "code",
      "execution_count": null,
      "metadata": {
        "id": "omoKEpM_Xl0X",
        "outputId": "0b89dbf6-2a35-4d52-bef5-0e79cb192026"
      },
      "outputs": [
        {
          "data": {
            "image/png": "[encoded data removed]",
            "text/plain": [
              "<Figure size 1224x360 with 1 Axes>"
            ]
          },
          "metadata": {
            "needs_background": "light"
          },
          "output_type": "display_data"
        }
      ],
      "source": [
        "# lasso\n",
        "\n",
        "lasso_coefs = pd.Series(optimal_Lasso.coef_, index=X.columns)\n",
        "plt.figure(figsize=(17, 5))\n",
        "plt.tick_params(axis='x', labelsize=7)\n",
        "lasso_coefs.plot(kind='bar');\n",
        "plt.show()"
      ]
    },
    {
      "cell_type": "code",
      "execution_count": null,
      "metadata": {
        "id": "xpF-x78gXl0X"
      },
      "outputs": [],
      "source": [
        "# in addition to having smaller mses, these normalized models have muche fewer non-zero coefficients of predictor variables"
      ]
    },
    {
      "cell_type": "code",
      "execution_count": null,
      "metadata": {
        "id": "x-vymjtkXl0X"
      },
      "outputs": [],
      "source": []
    }
  ],
  "metadata": {
    "kernelspec": {
      "display_name": "Python 3",
      "language": "python",
      "name": "python3"
    },
    "language_info": {
      "codemirror_mode": {
        "name": "ipython",
        "version": 3
      },
      "file_extension": ".py",
      "mimetype": "text/x-python",
      "name": "python",
      "nbconvert_exporter": "python",
      "pygments_lexer": "ipython3",
      "version": "3.8.3"
    },
    "colab": {
      "provenance": []
    }
  },
  "nbformat": 4,
  "nbformat_minor": 0
}